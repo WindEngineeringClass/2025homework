{
 "cells": [
  {
   "cell_type": "markdown",
   "id": "d9a3ec0f-1069-4ac5-a9af-43fbcf23433c",
   "metadata": {},
   "source": [
    "# Question1 \n",
    "Re-analyse the annual maximum gust wind speeds for (I) the years 1952 to 1998, (II) the years 1952 to 1997, i.e. ignore the high value recorded in 1998. Compare the resulting predictions of design wind speeds for (a) 50 years return period, and (b) 1000 years return period, and comment.\n",
    "# Question2 \n",
    "Using the parameter estimation approach in code GB 50009 2012, predict the 10, 20, 50, 100, 200, 500, 1000 years return period design wind speeds for the above two cases, and compare the results with the Gumbel approach.\n"
   ]
  },
  {
   "cell_type": "code",
   "execution_count": null,
   "id": "8d0d6d76-f3e8-4789-bbba-828cc735b0a9",
   "metadata": {},
   "outputs": [],
   "source": [
    "\n",
    "# 导入必要的库，pandas用于数据处理\n",
    "import pandas as pd\n",
    "from io import StringIO # python3中StringIO的位置\n",
    "\n",
    "# 加载数据\n",
    "data = \"\"\"\n",
    "year,Wind speed m/s\n",
    "1952,31.4\n",
    "1953,33.4\n",
    "1954,29.8\n",
    "1955,30.3\n",
    "1956,27.8\n",
    "1957,30.3\n",
    "1958,29.3\n",
    "1959,36.5\n",
    "1960,29.3\n",
    "1961,27.3\n",
    "1962,31.9\n",
    "1963,28.8\n",
    "1964,25.2\n",
    "1965,27.3\n",
    "1966,23.7\n",
    "1967,27.8\n",
    "1968,32.4\n",
    "1969,27.8\n",
    "1970,26.2\n",
    "1971,30.9\n",
    "1972,31.9\n",
    "1973,27.3\n",
    "1974,25.7\n",
    "1975,32.9\n",
    "1976,28.3\n",
    "1977,27.3\n",
    "1978,28.3\n",
    "1979,28.3\n",
    "1980,29.3\n",
    "1981,27.8\n",
    "1982,27.8\n",
    "1983,30.9\n",
    "1984,26.7\n",
    "1985,30.3\n",
    "1986,28.3\n",
    "1987,30.3\n",
    "1988,34\n",
    "1989,28.8\n",
    "1990,30.3\n",
    "1991,27.3\n",
    "1992,27.8\n",
    "1993,28.8\n",
    "1994,30.9\n",
    "1995,26.2\n",
    "1996,25.7\n",
    "1997,24.7\n",
    "1998,42.2\n",
    "\"\"\"\n",
    "\n",
    "# 将data数据转换为StringIO对象，再读取为DataFrame\n",
    "df = pd.read_csv(StringIO(data)) \n",
    "\n",
    "# 显示全部数据\n",
    "df"
   ]
  },
  {
   "cell_type": "code",
   "execution_count": null,
   "id": "106f3b73-46bc-438f-87e3-6db570df2d2f",
   "metadata": {},
   "outputs": [],
   "source": []
  }
 ],
 "metadata": {
  "kernelspec": {
   "display_name": "Python 3 (ipykernel)",
   "language": "python",
   "name": "python3"
  },
  "language_info": {
   "codemirror_mode": {
    "name": "ipython",
    "version": 3
   },
   "file_extension": ".py",
   "mimetype": "text/x-python",
   "name": "python",
   "nbconvert_exporter": "python",
   "pygments_lexer": "ipython3",
   "version": "3.13.2"
  }
 },
 "nbformat": 4,
 "nbformat_minor": 5
}
