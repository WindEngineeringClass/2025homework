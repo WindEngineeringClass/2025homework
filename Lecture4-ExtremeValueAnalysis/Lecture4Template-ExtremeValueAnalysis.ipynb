{
 "cells": [
  {
   "cell_type": "markdown",
   "id": "98917802",
   "metadata": {},
   "source": [
    "# Question1 \n",
    "Re-analyse the annual maximum gust wind speeds for (I) the years 1952 to 1998, (II) the years 1952 to 1997, i.e. ignore the high value recorded in 1998. Compare the resulting predictions of design wind speeds for (a) 50 years return period, and (b) 1000 years return period, and comment.\n",
    "# Question2 \n",
    "Using the parameter estimation approach in GB 50009 2012, predict the 10, 20, 50, 100, 200, 500, 1000 years return period design wind speeds for the above two cases, and compare the results with the Gumbel approach.\n",
    "# Question2 \n",
    "Using the parameter estimation approach in GB 50009 2012, predict the 10, 20, 50, 100, 200, 500, 1000 years return period design wind speeds for the above two cases, and compare the results with the Gumbel approach."
   ]
  },
  {
   "cell_type": "code",
   "execution_count": null,
   "id": "25a597b6",
   "metadata": {},
   "outputs": [
    {
     "data": {
      "application/vnd.microsoft.datawrangler.viewer.v0+json": {
       "columns": [
        {
         "name": "index",
         "rawType": "int64",
         "type": "integer"
        },
        {
         "name": "year",
         "rawType": "int64",
         "type": "integer"
        },
        {
         "name": "Wind speed m/s",
         "rawType": "float64",
         "type": "float"
        }
       ],
       "conversionMethod": "pd.DataFrame",
       "ref": "295b1fb2-cf80-41d2-a5b2-f2072328669d",
       "rows": [
        [
         "0",
         "1952",
         "31.4"
        ],
        [
         "1",
         "1953",
         "33.4"
        ],
        [
         "2",
         "1954",
         "29.8"
        ],
        [
         "3",
         "1955",
         "30.3"
        ],
        [
         "4",
         "1956",
         "27.8"
        ],
        [
         "5",
         "1957",
         "30.3"
        ],
        [
         "6",
         "1958",
         "29.3"
        ],
        [
         "7",
         "1959",
         "36.5"
        ],
        [
         "8",
         "1960",
         "29.3"
        ],
        [
         "9",
         "1961",
         "27.3"
        ],
        [
         "10",
         "1962",
         "31.9"
        ],
        [
         "11",
         "1963",
         "28.8"
        ],
        [
         "12",
         "1964",
         "25.2"
        ],
        [
         "13",
         "1965",
         "27.3"
        ],
        [
         "14",
         "1966",
         "23.7"
        ],
        [
         "15",
         "1967",
         "27.8"
        ],
        [
         "16",
         "1968",
         "32.4"
        ],
        [
         "17",
         "1969",
         "27.8"
        ],
        [
         "18",
         "1970",
         "26.2"
        ],
        [
         "19",
         "1971",
         "30.9"
        ],
        [
         "20",
         "1972",
         "31.9"
        ],
        [
         "21",
         "1973",
         "27.3"
        ],
        [
         "22",
         "1974",
         "25.7"
        ],
        [
         "23",
         "1975",
         "32.9"
        ],
        [
         "24",
         "1976",
         "28.3"
        ],
        [
         "25",
         "1977",
         "27.3"
        ],
        [
         "26",
         "1978",
         "28.3"
        ],
        [
         "27",
         "1979",
         "28.3"
        ],
        [
         "28",
         "1980",
         "29.3"
        ],
        [
         "29",
         "1981",
         "27.8"
        ],
        [
         "30",
         "1982",
         "27.8"
        ],
        [
         "31",
         "1983",
         "30.9"
        ],
        [
         "32",
         "1984",
         "26.7"
        ],
        [
         "33",
         "1985",
         "30.3"
        ],
        [
         "34",
         "1986",
         "28.3"
        ],
        [
         "35",
         "1987",
         "30.3"
        ],
        [
         "36",
         "1988",
         "34.0"
        ],
        [
         "37",
         "1989",
         "28.8"
        ],
        [
         "38",
         "1990",
         "30.3"
        ],
        [
         "39",
         "1991",
         "27.3"
        ],
        [
         "40",
         "1992",
         "27.8"
        ],
        [
         "41",
         "1993",
         "28.8"
        ],
        [
         "42",
         "1994",
         "30.9"
        ],
        [
         "43",
         "1995",
         "26.2"
        ],
        [
         "44",
         "1996",
         "25.7"
        ],
        [
         "45",
         "1997",
         "24.7"
        ],
        [
         "46",
         "1998",
         "42.2"
        ]
       ],
       "shape": {
        "columns": 2,
        "rows": 47
       }
      },
      "text/html": [
       "<div>\n",
       "<style scoped>\n",
       "    .dataframe tbody tr th:only-of-type {\n",
       "        vertical-align: middle;\n",
       "    }\n",
       "\n",
       "    .dataframe tbody tr th {\n",
       "        vertical-align: top;\n",
       "    }\n",
       "\n",
       "    .dataframe thead th {\n",
       "        text-align: right;\n",
       "    }\n",
       "</style>\n",
       "<table border=\"1\" class=\"dataframe\">\n",
       "  <thead>\n",
       "    <tr style=\"text-align: right;\">\n",
       "      <th></th>\n",
       "      <th>year</th>\n",
       "      <th>Wind speed m/s</th>\n",
       "    </tr>\n",
       "  </thead>\n",
       "  <tbody>\n",
       "    <tr>\n",
       "      <th>0</th>\n",
       "      <td>1952</td>\n",
       "      <td>31.4</td>\n",
       "    </tr>\n",
       "    <tr>\n",
       "      <th>1</th>\n",
       "      <td>1953</td>\n",
       "      <td>33.4</td>\n",
       "    </tr>\n",
       "    <tr>\n",
       "      <th>2</th>\n",
       "      <td>1954</td>\n",
       "      <td>29.8</td>\n",
       "    </tr>\n",
       "    <tr>\n",
       "      <th>3</th>\n",
       "      <td>1955</td>\n",
       "      <td>30.3</td>\n",
       "    </tr>\n",
       "    <tr>\n",
       "      <th>4</th>\n",
       "      <td>1956</td>\n",
       "      <td>27.8</td>\n",
       "    </tr>\n",
       "    <tr>\n",
       "      <th>5</th>\n",
       "      <td>1957</td>\n",
       "      <td>30.3</td>\n",
       "    </tr>\n",
       "    <tr>\n",
       "      <th>6</th>\n",
       "      <td>1958</td>\n",
       "      <td>29.3</td>\n",
       "    </tr>\n",
       "    <tr>\n",
       "      <th>7</th>\n",
       "      <td>1959</td>\n",
       "      <td>36.5</td>\n",
       "    </tr>\n",
       "    <tr>\n",
       "      <th>8</th>\n",
       "      <td>1960</td>\n",
       "      <td>29.3</td>\n",
       "    </tr>\n",
       "    <tr>\n",
       "      <th>9</th>\n",
       "      <td>1961</td>\n",
       "      <td>27.3</td>\n",
       "    </tr>\n",
       "    <tr>\n",
       "      <th>10</th>\n",
       "      <td>1962</td>\n",
       "      <td>31.9</td>\n",
       "    </tr>\n",
       "    <tr>\n",
       "      <th>11</th>\n",
       "      <td>1963</td>\n",
       "      <td>28.8</td>\n",
       "    </tr>\n",
       "    <tr>\n",
       "      <th>12</th>\n",
       "      <td>1964</td>\n",
       "      <td>25.2</td>\n",
       "    </tr>\n",
       "    <tr>\n",
       "      <th>13</th>\n",
       "      <td>1965</td>\n",
       "      <td>27.3</td>\n",
       "    </tr>\n",
       "    <tr>\n",
       "      <th>14</th>\n",
       "      <td>1966</td>\n",
       "      <td>23.7</td>\n",
       "    </tr>\n",
       "    <tr>\n",
       "      <th>15</th>\n",
       "      <td>1967</td>\n",
       "      <td>27.8</td>\n",
       "    </tr>\n",
       "    <tr>\n",
       "      <th>16</th>\n",
       "      <td>1968</td>\n",
       "      <td>32.4</td>\n",
       "    </tr>\n",
       "    <tr>\n",
       "      <th>17</th>\n",
       "      <td>1969</td>\n",
       "      <td>27.8</td>\n",
       "    </tr>\n",
       "    <tr>\n",
       "      <th>18</th>\n",
       "      <td>1970</td>\n",
       "      <td>26.2</td>\n",
       "    </tr>\n",
       "    <tr>\n",
       "      <th>19</th>\n",
       "      <td>1971</td>\n",
       "      <td>30.9</td>\n",
       "    </tr>\n",
       "    <tr>\n",
       "      <th>20</th>\n",
       "      <td>1972</td>\n",
       "      <td>31.9</td>\n",
       "    </tr>\n",
       "    <tr>\n",
       "      <th>21</th>\n",
       "      <td>1973</td>\n",
       "      <td>27.3</td>\n",
       "    </tr>\n",
       "    <tr>\n",
       "      <th>22</th>\n",
       "      <td>1974</td>\n",
       "      <td>25.7</td>\n",
       "    </tr>\n",
       "    <tr>\n",
       "      <th>23</th>\n",
       "      <td>1975</td>\n",
       "      <td>32.9</td>\n",
       "    </tr>\n",
       "    <tr>\n",
       "      <th>24</th>\n",
       "      <td>1976</td>\n",
       "      <td>28.3</td>\n",
       "    </tr>\n",
       "    <tr>\n",
       "      <th>25</th>\n",
       "      <td>1977</td>\n",
       "      <td>27.3</td>\n",
       "    </tr>\n",
       "    <tr>\n",
       "      <th>26</th>\n",
       "      <td>1978</td>\n",
       "      <td>28.3</td>\n",
       "    </tr>\n",
       "    <tr>\n",
       "      <th>27</th>\n",
       "      <td>1979</td>\n",
       "      <td>28.3</td>\n",
       "    </tr>\n",
       "    <tr>\n",
       "      <th>28</th>\n",
       "      <td>1980</td>\n",
       "      <td>29.3</td>\n",
       "    </tr>\n",
       "    <tr>\n",
       "      <th>29</th>\n",
       "      <td>1981</td>\n",
       "      <td>27.8</td>\n",
       "    </tr>\n",
       "    <tr>\n",
       "      <th>30</th>\n",
       "      <td>1982</td>\n",
       "      <td>27.8</td>\n",
       "    </tr>\n",
       "    <tr>\n",
       "      <th>31</th>\n",
       "      <td>1983</td>\n",
       "      <td>30.9</td>\n",
       "    </tr>\n",
       "    <tr>\n",
       "      <th>32</th>\n",
       "      <td>1984</td>\n",
       "      <td>26.7</td>\n",
       "    </tr>\n",
       "    <tr>\n",
       "      <th>33</th>\n",
       "      <td>1985</td>\n",
       "      <td>30.3</td>\n",
       "    </tr>\n",
       "    <tr>\n",
       "      <th>34</th>\n",
       "      <td>1986</td>\n",
       "      <td>28.3</td>\n",
       "    </tr>\n",
       "    <tr>\n",
       "      <th>35</th>\n",
       "      <td>1987</td>\n",
       "      <td>30.3</td>\n",
       "    </tr>\n",
       "    <tr>\n",
       "      <th>36</th>\n",
       "      <td>1988</td>\n",
       "      <td>34.0</td>\n",
       "    </tr>\n",
       "    <tr>\n",
       "      <th>37</th>\n",
       "      <td>1989</td>\n",
       "      <td>28.8</td>\n",
       "    </tr>\n",
       "    <tr>\n",
       "      <th>38</th>\n",
       "      <td>1990</td>\n",
       "      <td>30.3</td>\n",
       "    </tr>\n",
       "    <tr>\n",
       "      <th>39</th>\n",
       "      <td>1991</td>\n",
       "      <td>27.3</td>\n",
       "    </tr>\n",
       "    <tr>\n",
       "      <th>40</th>\n",
       "      <td>1992</td>\n",
       "      <td>27.8</td>\n",
       "    </tr>\n",
       "    <tr>\n",
       "      <th>41</th>\n",
       "      <td>1993</td>\n",
       "      <td>28.8</td>\n",
       "    </tr>\n",
       "    <tr>\n",
       "      <th>42</th>\n",
       "      <td>1994</td>\n",
       "      <td>30.9</td>\n",
       "    </tr>\n",
       "    <tr>\n",
       "      <th>43</th>\n",
       "      <td>1995</td>\n",
       "      <td>26.2</td>\n",
       "    </tr>\n",
       "    <tr>\n",
       "      <th>44</th>\n",
       "      <td>1996</td>\n",
       "      <td>25.7</td>\n",
       "    </tr>\n",
       "    <tr>\n",
       "      <th>45</th>\n",
       "      <td>1997</td>\n",
       "      <td>24.7</td>\n",
       "    </tr>\n",
       "    <tr>\n",
       "      <th>46</th>\n",
       "      <td>1998</td>\n",
       "      <td>42.2</td>\n",
       "    </tr>\n",
       "  </tbody>\n",
       "</table>\n",
       "</div>"
      ],
      "text/plain": [
       "    year  Wind speed m/s\n",
       "0   1952            31.4\n",
       "1   1953            33.4\n",
       "2   1954            29.8\n",
       "3   1955            30.3\n",
       "4   1956            27.8\n",
       "5   1957            30.3\n",
       "6   1958            29.3\n",
       "7   1959            36.5\n",
       "8   1960            29.3\n",
       "9   1961            27.3\n",
       "10  1962            31.9\n",
       "11  1963            28.8\n",
       "12  1964            25.2\n",
       "13  1965            27.3\n",
       "14  1966            23.7\n",
       "15  1967            27.8\n",
       "16  1968            32.4\n",
       "17  1969            27.8\n",
       "18  1970            26.2\n",
       "19  1971            30.9\n",
       "20  1972            31.9\n",
       "21  1973            27.3\n",
       "22  1974            25.7\n",
       "23  1975            32.9\n",
       "24  1976            28.3\n",
       "25  1977            27.3\n",
       "26  1978            28.3\n",
       "27  1979            28.3\n",
       "28  1980            29.3\n",
       "29  1981            27.8\n",
       "30  1982            27.8\n",
       "31  1983            30.9\n",
       "32  1984            26.7\n",
       "33  1985            30.3\n",
       "34  1986            28.3\n",
       "35  1987            30.3\n",
       "36  1988            34.0\n",
       "37  1989            28.8\n",
       "38  1990            30.3\n",
       "39  1991            27.3\n",
       "40  1992            27.8\n",
       "41  1993            28.8\n",
       "42  1994            30.9\n",
       "43  1995            26.2\n",
       "44  1996            25.7\n",
       "45  1997            24.7\n",
       "46  1998            42.2"
      ]
     },
     "execution_count": 3,
     "metadata": {},
     "output_type": "execute_result"
    }
   ],
   "source": [
    "\n",
    "# 导入必要的库，pandas用于数据处理\n",
    "import pandas as pd\n",
    "from io import StringIO # python3中StringIO的位置\n",
    "\n",
    "# 加载数据\n",
    "data = \"\"\"\n",
    "year,Wind speed m/s\n",
    "1952,31.4\n",
    "1953,33.4\n",
    "1954,29.8\n",
    "1955,30.3\n",
    "1956,27.8\n",
    "1957,30.3\n",
    "1958,29.3\n",
    "1959,36.5\n",
    "1960,29.3\n",
    "1961,27.3\n",
    "1962,31.9\n",
    "1963,28.8\n",
    "1964,25.2\n",
    "1965,27.3\n",
    "1966,23.7\n",
    "1967,27.8\n",
    "1968,32.4\n",
    "1969,27.8\n",
    "1970,26.2\n",
    "1971,30.9\n",
    "1972,31.9\n",
    "1973,27.3\n",
    "1974,25.7\n",
    "1975,32.9\n",
    "1976,28.3\n",
    "1977,27.3\n",
    "1978,28.3\n",
    "1979,28.3\n",
    "1980,29.3\n",
    "1981,27.8\n",
    "1982,27.8\n",
    "1983,30.9\n",
    "1984,26.7\n",
    "1985,30.3\n",
    "1986,28.3\n",
    "1987,30.3\n",
    "1988,34\n",
    "1989,28.8\n",
    "1990,30.3\n",
    "1991,27.3\n",
    "1992,27.8\n",
    "1993,28.8\n",
    "1994,30.9\n",
    "1995,26.2\n",
    "1996,25.7\n",
    "1997,24.7\n",
    "1998,42.2\n",
    "\"\"\"\n",
    "\n",
    "# 将data数据转换为StringIO对象，再读取为DataFrame\n",
    "df = pd.read_csv(StringIO(data)) \n",
    "\n",
    "# 显示全部数据\n",
    "df"
   ]
  }
 ],
 "metadata": {
  "kernelspec": {
   "display_name": "pytorchpy310",
   "language": "python",
   "name": "python3"
  },
  "language_info": {
   "codemirror_mode": {
    "name": "ipython",
    "version": 3
   },
   "file_extension": ".py",
   "mimetype": "text/x-python",
   "name": "python",
   "nbconvert_exporter": "python",
   "pygments_lexer": "ipython3",
   "version": "3.10.14"
  }
 },
 "nbformat": 4,
 "nbformat_minor": 5
}
