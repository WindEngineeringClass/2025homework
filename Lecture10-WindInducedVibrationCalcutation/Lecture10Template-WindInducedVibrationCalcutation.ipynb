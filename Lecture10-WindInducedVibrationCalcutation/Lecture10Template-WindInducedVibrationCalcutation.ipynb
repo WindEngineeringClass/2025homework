{
 "cells": [
  {
   "cell_type": "markdown",
   "id": "d9a3ec0f-1069-4ac5-a9af-43fbcf23433c",
   "metadata": {},
   "source": [
    "# Question\n",
    "The following figures show the Di Wang Tower in Shenzhen. The structure of Di Wang Tower is made up of steel and reinforced concrete (calculated as reinforced concrete), C terrain type, the design wind pressure $w_0 = 0.75 \\text{ kN/m}^2$, period $T_1=6.38\\text{ s}$, The first mode shape is listed in following table. To determine shape factor, the cross section could be considered as rectangle.\n",
    "\n",
    "<center>\n",
    "    <img src=\"./images/Diwang01.png\" alt=\"The Elvation of the DiWang Tower\" width=\"400\"/>\n",
    "    <img src=\"./images/Diwang02.png\" alt=\"The Plan View of the DiWang Tower\" width=\"400\"/>\n",
    "</center>\n",
    "\n",
    "<br>\n",
    "\n",
    "| $\\dfrac{h}{H}$ | 0     | 0.1   | 0.2   | 0.3   | 0.4    | 0.5   | 0.6   | 0.7    | 0.8   | 0.9   | 1.0   |\n",
    "| -------------- | ----- | ----- | ----- | ----- | ------ | ----- | ----- | ------ | ----- | ----- | ----- |\n",
    "| Mode shape     | 0.0000| 0.0137| 0.0558| 0.1277| 0.2424| 0.3503| 0.4629| 0.5903| 0.7309| 0.8700| 1.0000| \n",
    "\n",
    "Only consider the first mode, calculate **the base overturned moment** and **the top displacement** induced by the along-wind static and dynamic wind load in the given wind direction using the following methods:\n",
    "1. Method recommended by the Chinese code for wind-resistant design of buildings (GB 50009-2012).\n",
    "2. According to the quasi-steady assumption, convert the fluctuating wind velocity time histories in `windData` (**with a duration of 10 minutes and a sampling frequency of 10 Hz**) to wind load time histories $F_i(t)=1/2\\rho \\cdot u_i(t)^2 \\cdot \\mu_{s,i} \\cdot A_i$, and then using stocastic vibration methods in time domain (such as the newmark-beta algorithm) and in frequency domain (such as the response spectrum analysis). Peak factor $g = 2.5$ should be used for the extreme value calculation, and the programming using frequency domain method is optional."
   ]
  },
  {
   "cell_type": "markdown",
   "id": "14cec2bb",
   "metadata": {},
   "source": [
    "# Answer\n"
   ]
  },
  {
   "cell_type": "code",
   "execution_count": 2,
   "id": "106f3b73-46bc-438f-87e3-6db570df2d2f",
   "metadata": {},
   "outputs": [
    {
     "name": "stdout",
     "output_type": "stream",
     "text": [
      "\n",
      "The dimension of U is: (11, 6000)\n"
     ]
    }
   ],
   "source": [
    "import scipy.io as sio\n",
    "\n",
    "# load data\n",
    "simDataPath = './windData/windData.mat'\n",
    "simData = sio.loadmat(simDataPath, squeeze_me=True, struct_as_record=False)\n",
    "U = simData['U']\n",
    "Z = simData['Z']\n",
    "dt = simData['dt']\n",
    "t = simData['t']\n",
    "del simData\n",
    "print(\"\\nThe dimension of U is:\", U.shape)"
   ]
  },
  {
   "cell_type": "code",
   "execution_count": null,
   "id": "1b2968a8-f28f-4feb-83e7-0804ca173ee8",
   "metadata": {},
   "outputs": [],
   "source": []
  },
  {
   "cell_type": "code",
   "execution_count": null,
   "id": "d58afca6-43b4-4a8c-9fef-68333c36fe5f",
   "metadata": {},
   "outputs": [],
   "source": []
  }
 ],
 "metadata": {
  "kernelspec": {
   "display_name": "Python 3 (ipykernel)",
   "language": "python",
   "name": "python3"
  },
  "language_info": {
   "codemirror_mode": {
    "name": "ipython",
    "version": 3
   },
   "file_extension": ".py",
   "mimetype": "text/x-python",
   "name": "python",
   "nbconvert_exporter": "python",
   "pygments_lexer": "ipython3",
   "version": "3.11.4"
  }
 },
 "nbformat": 4,
 "nbformat_minor": 5
}
