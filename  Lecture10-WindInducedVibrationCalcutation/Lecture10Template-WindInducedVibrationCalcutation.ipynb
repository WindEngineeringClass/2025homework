{
 "cells": [
  {
   "cell_type": "markdown",
   "id": "d9a3ec0f-1069-4ac5-a9af-43fbcf23433c",
   "metadata": {},
   "source": [
    "# Question\n",
    "The following figures show the Di Wang Tower in Shenzhen. The structure of Di Wang Tower is made up of steel and reinforced concrete (calculated as reinforced concrete), C terrain type, the design wind pressure $w_0 = 0.75 \\text{ kN/m}^2$, period $T_1=6.38\\text{ s}$, The first mode shape is listed in following table. To determine shape factor, the cross section could be considered as rectangle.\n",
    "|![The Elvation of the DiWang Tower ](./images/Diwang01.png)|![The Plan View of the DiWang Tower](./images/Diwang02.png)|\n",
    "| $\\dfrac{h}{H}$ | 0     | 0.1   | 0.2   | 0.3   | 0.4    | 0.5   | 0.6   | 0.7    | 0.8   | 0.9   | 1.0   |\n",
    "| -------------- | ----- | ----- | ----- | ----- | ------ | ----- | ----- | ------ | ----- | ----- | ----- |\n",
    "| Mode shape     | 0.0000| 0.0137| 0.0558| 0.1277| 0.2424| 0.3503| 0.4629| 0.5903| 0.7309| 0.8700| 1.0000| \n",
    "\n",
    "Calculate the base overturned moment and the top displacement induced by the along-wind static and dynamic wind load in the given wind direction using the following methods:\n",
    "1. Method recommended by the Chinese code for wind-resistant design of buildings (GB 50009-2012).\n",
    "2. According to the quasi-steady assumption, convert the fluctuating wind velocity time histories in windData to wind load time histories $F_i(t)=1/2\rho u_i(t)^2 \cdot \mu_{s,i} \cdot A_i$, and then using stocastic vibration methods in time domain (such as the newmark-beta algorithm) and in frequency domain (such as the response spectrum analysis). Peak factor $g = 2.5$ should be used for the extreme value calculation, and the program using frequency domain method is optional."
   ]
  },
  {
   "cell_type": "code",
   "execution_count": null,
   "id": "8d0d6d76-f3e8-4789-bbba-828cc735b0a9",
   "metadata": {},
   "outputs": [],
   "source": [
    "\n",
    "# 导入必要的库，pandas用于数据处理\n",
    "import pandas as pd\n",
    "from io import StringIO # python3中StringIO的位置\n",
    "\n",
    "# 加载数据\n",
    "data = \"\"\"\n",
    "year,Wind speed m/s\n",
    "1952,31.4\n",
    "1953,33.4\n",
    "1954,29.8\n",
    "1955,30.3\n",
    "1956,27.8\n",
    "1957,30.3\n",
    "1958,29.3\n",
    "1959,36.5\n",
    "1960,29.3\n",
    "1961,27.3\n",
    "1962,31.9\n",
    "1963,28.8\n",
    "1964,25.2\n",
    "1965,27.3\n",
    "1966,23.7\n",
    "1967,27.8\n",
    "1968,32.4\n",
    "1969,27.8\n",
    "1970,26.2\n",
    "1971,30.9\n",
    "1972,31.9\n",
    "1973,27.3\n",
    "1974,25.7\n",
    "1975,32.9\n",
    "1976,28.3\n",
    "1977,27.3\n",
    "1978,28.3\n",
    "1979,28.3\n",
    "1980,29.3\n",
    "1981,27.8\n",
    "1982,27.8\n",
    "1983,30.9\n",
    "1984,26.7\n",
    "1985,30.3\n",
    "1986,28.3\n",
    "1987,30.3\n",
    "1988,34\n",
    "1989,28.8\n",
    "1990,30.3\n",
    "1991,27.3\n",
    "1992,27.8\n",
    "1993,28.8\n",
    "1994,30.9\n",
    "1995,26.2\n",
    "1996,25.7\n",
    "1997,24.7\n",
    "1998,42.2\n",
    "\"\"\"\n",
    "\n",
    "# 将data数据转换为StringIO对象，再读取为DataFrame\n",
    "df = pd.read_csv(StringIO(data)) \n"
   ]
  },
  {
   "cell_type": "markdown",
   "id": "14cec2bb",
   "metadata": {},
   "source": [
    "# Answer\n"
   ]
  },
  {
   "cell_type": "code",
   "execution_count": null,
   "id": "106f3b73-46bc-438f-87e3-6db570df2d2f",
   "metadata": {},
   "outputs": [],
   "source": []
  }
 ],
 "metadata": {
  "kernelspec": {
   "display_name": "Python 3 (ipykernel)",
   "language": "python",
   "name": "python3"
  },
  "language_info": {
   "codemirror_mode": {
    "name": "ipython",
    "version": 3
   },
   "file_extension": ".py",
   "mimetype": "text/x-python",
   "name": "python",
   "nbconvert_exporter": "python",
   "pygments_lexer": "ipython3",
   "version": "3.13.2"
  }
 },
 "nbformat": 4,
 "nbformat_minor": 5
}
