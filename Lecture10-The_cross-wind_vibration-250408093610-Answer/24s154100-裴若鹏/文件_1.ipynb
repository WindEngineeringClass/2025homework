{
 "cells": [
  {
   "cell_type": "code",
   "execution_count": 7,
   "id": "7c3d9eac-9e4e-48b2-8557-d0305dfd2443",
   "metadata": {},
   "outputs": [
    {
     "name": "stdout",
     "output_type": "stream",
     "text": [
      "\n",
      "The dimension of U is: (11, 6000)\n"
     ]
    }
   ],
   "source": [
    "import scipy.io as sio\n",
    "\n",
    "# load data\n",
    "simDataPath = 'C:/Users/13063/Downloads/windData.mat'\n",
    "simData = sio.loadmat(simDataPath, squeeze_me=True, struct_as_record=False)\n",
    "U = simData['U']\n",
    "Z = simData['Z']\n",
    "dt = simData['dt']\n",
    "t = simData['t']\n",
    "del simData\n",
    "print(\"\\nThe dimension of U is:\", U.shape)\n"
   ]
  },
  {
   "cell_type": "code",
   "execution_count": 11,
   "id": "af4da952-8766-451c-8091-124ce3c6bbfa",
   "metadata": {},
   "outputs": [
    {
     "ename": "LinAlgError",
     "evalue": "0-dimensional array given. Array must be at least two-dimensional",
     "output_type": "error",
     "traceback": [
      "\u001b[1;31m---------------------------------------------------------------------------\u001b[0m",
      "\u001b[1;31mLinAlgError\u001b[0m                               Traceback (most recent call last)",
      "Cell \u001b[1;32mIn[11], line 59\u001b[0m\n\u001b[0;32m     56\u001b[0m F_eff \u001b[38;5;241m=\u001b[39m m \u001b[38;5;241m*\u001b[39m (\u001b[38;5;241m1\u001b[39m \u001b[38;5;241m/\u001b[39m (beta \u001b[38;5;241m*\u001b[39m dt\u001b[38;5;241m*\u001b[39m\u001b[38;5;241m*\u001b[39m\u001b[38;5;241m2\u001b[39m)) \u001b[38;5;241m*\u001b[39m u_pred \u001b[38;5;241m+\u001b[39m c \u001b[38;5;241m*\u001b[39m (\u001b[38;5;241m1\u001b[39m \u001b[38;5;241m/\u001b[39m (gamma \u001b[38;5;241m*\u001b[39m dt)) \u001b[38;5;241m*\u001b[39m v_pred \u001b[38;5;241m+\u001b[39m k \u001b[38;5;241m*\u001b[39m u_pred \u001b[38;5;241m-\u001b[39m F_i\n\u001b[0;32m     58\u001b[0m \u001b[38;5;66;03m# 求解加速度\u001b[39;00m\n\u001b[1;32m---> 59\u001b[0m a[i\u001b[38;5;241m+\u001b[39m\u001b[38;5;241m1\u001b[39m] \u001b[38;5;241m=\u001b[39m np\u001b[38;5;241m.\u001b[39mlinalg\u001b[38;5;241m.\u001b[39msolve(K_eff, F_eff)\n\u001b[0;32m     61\u001b[0m \u001b[38;5;66;03m# 更新速度和位移\u001b[39;00m\n\u001b[0;32m     62\u001b[0m v[i\u001b[38;5;241m+\u001b[39m\u001b[38;5;241m1\u001b[39m] \u001b[38;5;241m=\u001b[39m v[i] \u001b[38;5;241m+\u001b[39m dt \u001b[38;5;241m*\u001b[39m (a[i] \u001b[38;5;241m+\u001b[39m a[i\u001b[38;5;241m+\u001b[39m\u001b[38;5;241m1\u001b[39m]) \u001b[38;5;241m*\u001b[39m (\u001b[38;5;241m1\u001b[39m \u001b[38;5;241m-\u001b[39m gamma)\n",
      "File \u001b[1;32mD:\\Anaconda\\Lib\\site-packages\\numpy\\linalg\\linalg.py:395\u001b[0m, in \u001b[0;36msolve\u001b[1;34m(a, b)\u001b[0m\n\u001b[0;32m    331\u001b[0m \u001b[38;5;250m\u001b[39m\u001b[38;5;124;03m\"\"\"\u001b[39;00m\n\u001b[0;32m    332\u001b[0m \u001b[38;5;124;03mSolve a linear matrix equation, or system of linear scalar equations.\u001b[39;00m\n\u001b[0;32m    333\u001b[0m \n\u001b[1;32m   (...)\u001b[0m\n\u001b[0;32m    392\u001b[0m \n\u001b[0;32m    393\u001b[0m \u001b[38;5;124;03m\"\"\"\u001b[39;00m\n\u001b[0;32m    394\u001b[0m a, _ \u001b[38;5;241m=\u001b[39m _makearray(a)\n\u001b[1;32m--> 395\u001b[0m _assert_stacked_2d(a)\n\u001b[0;32m    396\u001b[0m _assert_stacked_square(a)\n\u001b[0;32m    397\u001b[0m b, wrap \u001b[38;5;241m=\u001b[39m _makearray(b)\n",
      "File \u001b[1;32mD:\\Anaconda\\Lib\\site-packages\\numpy\\linalg\\linalg.py:206\u001b[0m, in \u001b[0;36m_assert_stacked_2d\u001b[1;34m(*arrays)\u001b[0m\n\u001b[0;32m    204\u001b[0m \u001b[38;5;28;01mfor\u001b[39;00m a \u001b[38;5;129;01min\u001b[39;00m arrays:\n\u001b[0;32m    205\u001b[0m     \u001b[38;5;28;01mif\u001b[39;00m a\u001b[38;5;241m.\u001b[39mndim \u001b[38;5;241m<\u001b[39m \u001b[38;5;241m2\u001b[39m:\n\u001b[1;32m--> 206\u001b[0m         \u001b[38;5;28;01mraise\u001b[39;00m LinAlgError(\u001b[38;5;124m'\u001b[39m\u001b[38;5;132;01m%d\u001b[39;00m\u001b[38;5;124m-dimensional array given. Array must be \u001b[39m\u001b[38;5;124m'\u001b[39m\n\u001b[0;32m    207\u001b[0m                 \u001b[38;5;124m'\u001b[39m\u001b[38;5;124mat least two-dimensional\u001b[39m\u001b[38;5;124m'\u001b[39m \u001b[38;5;241m%\u001b[39m a\u001b[38;5;241m.\u001b[39mndim)\n",
      "\u001b[1;31mLinAlgError\u001b[0m: 0-dimensional array given. Array must be at least two-dimensional"
     ]
    }
   ],
   "source": [
    "import numpy as np\n",
    "import pandas as pd\n",
    "\n",
    "# 读取风速数据\n",
    "\n",
    "time = t\n",
    "wind_speed =U[0]\n",
    "\n",
    "# 参数定义\n",
    "g = 9.81  # 重力加速度 (m/s^2)\n",
    "H = 324.95 # 塔高 (m)\n",
    "rho = 1.225  # 空气密度 (kg/m^3)\n",
    "A = 2338.74  # 横截面积 (m^2)，假设值\n",
    "T1 = 6.38  # 周期 (s)\n",
    "omega1 = 2 * np.pi / T1  # 自然频率 (rad/s)\n",
    "mu_s = 1.0  # 形状因子\n",
    "mu_i = 0.5  # 惯性因子\n",
    "beta = 1/6  # Newmark-β参数\n",
    "gamma = 1/2  # Newmark-γ参数\n",
    "dt = 0.1  # 时间步长 (s)\n",
    "total_time = 600  # 总时间 (s)\n",
    "n_steps = int(total_time / dt)\n",
    "\n",
    "# 质量、刚度和阻尼\n",
    "m = 2500  # 质量 (kg)\n",
    "k = m * omega1**2  # 刚度 (N/m)\n",
    "c = 2 * beta * np.sqrt(k * m)  # 阻尼 (Ns/m)\n",
    "\n",
    "# 初始化位移、速度和加速度\n",
    "u = np.zeros(n_steps+1)\n",
    "v = np.zeros(n_steps+1)\n",
    "a = np.zeros(n_steps+1)\n",
    "\n",
    "# 计算平均风速和脉动风速\n",
    "mean_wind_speed = np.mean(wind_speed)\n",
    "fluctuating_wind_speed = wind_speed - mean_wind_speed\n",
    "\n",
    "# 风荷载时间历程\n",
    "def wind_load(t, mean_wind_speed, fluctuating_wind_speed):\n",
    "    index = int(t // dt)\n",
    "    u_i = fluctuating_wind_speed[index]\n",
    "    return 0.5 * rho * A * (mean_wind_speed**2 +mean_wind_speed*u_i*2) * mu_s\n",
    "\n",
    "# Newmark-β法\n",
    "for i in range(1, n_steps):\n",
    "    # 当前风荷载\n",
    "    F_i = wind_load(time[i], mean_wind_speed, fluctuating_wind_speed)\n",
    "    \n",
    "    # 预测加速度和速度\n",
    "    a_pred = (F_i - c * v[i] - k * u[i]) / m\n",
    "    v_pred = v[i] + dt * a_pred\n",
    "    u_pred = u[i] + dt * v_pred + (0.5 - beta) * dt**2 * a_pred\n",
    "    \n",
    "    # 计算有效刚度和质量\n",
    "    K_eff = m / (beta * dt**2) + c / (gamma * dt) + k\n",
    "    F_eff = m * (1 / (beta * dt**2)) * u_pred + c * (1 / (gamma * dt)) * v_pred + k * u_pred - F_i\n",
    "    \n",
    "    # 求解加速度\n",
    "    a[i+1] = np.linalg.solve(K_eff, F_eff)\n",
    "    \n",
    "    # 更新速度和位移\n",
    "    v[i+1] = v[i] + dt * (a[i] + a[i+1]) * (1 - gamma)\n",
    "    u[i+1] = u[i] + dt * (v[i] + v[i+1]) * 0.5 + dt**2 * (a[i] + a[i+1]) * (0.5 - beta / (2 * gamma))\n",
    "\n",
    "# 计算极值位移\n",
    "extreme_displacement = np.max(np.abs(u))\n",
    "\n",
    "print(f\"极端位移: {extreme_displacement:.2f} m\")"
   ]
  },
  {
   "cell_type": "code",
   "execution_count": null,
   "id": "7d6d69a1-e482-462f-9754-5084982f8b75",
   "metadata": {},
   "outputs": [],
   "source": []
  }
 ],
 "metadata": {
  "kernelspec": {
   "display_name": "Python [conda env:base] *",
   "language": "python",
   "name": "conda-base-py"
  },
  "language_info": {
   "codemirror_mode": {
    "name": "ipython",
    "version": 3
   },
   "file_extension": ".py",
   "mimetype": "text/x-python",
   "name": "python",
   "nbconvert_exporter": "python",
   "pygments_lexer": "ipython3",
   "version": "3.12.7"
  }
 },
 "nbformat": 4,
 "nbformat_minor": 5
}
