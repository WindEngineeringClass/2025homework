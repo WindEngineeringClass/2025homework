{
 "cells": [
  {
   "cell_type": "markdown",
   "metadata": {},
   "source": [
    "## 基于遗传算法的CAARC截面尺寸优化\n",
    "\n",
    "- 优化目标：\n",
    "    - 梁柱总体积最小 min(V)\n",
    "- 约束条件：\n",
    "    1. 顶部位移：\n",
    "        - Disp_topX and Disp_topY <= H/550\n",
    "    2. 下部柱子截面小于上部柱子截面：\n",
    "        - 第三级列表项1（无序）\n",
    "\n",
    "\n",
    "- 优化步骤：\n",
    "    1. 建立openseespy模型\n",
    "    2. 给每一个梁和柱截面进行编号：\n",
    "    3. 随机给每一个梁柱赋予梁柱截面编号值\n",
    "    4. 计算结构顶部位移是否超限，保留所有没有超限的个体，踢出超限的个体；\n",
    "        - 对保留下来的个体计算其梁和柱子的总体积，并按照体积从小到大对个体进行排序，保留体积较小的5个个体；\n",
    "        - 使用交叉和变异操作，将个体扩充到定义的种群数量，在重新计算每一个个体的顶部位移，同时重复步骤4，直到循环次数达到预先定义的值\n",
    "        \n",
    "\n",
    "\n"
   ]
  },
  {
   "cell_type": "markdown",
   "metadata": {},
   "source": [
    "### 版本6：对版本5进行优化\n",
    "\n",
    "代码的优化建议：\n",
    "\n",
    "- 代码结构优化\n",
    "    - 模块化重构：将代码按照功能划分为多个模块，每个模块负责一个相对独立的功能，如模型构建、遗传算法相关操作、分析计算等，这样可以使代码更加清晰、易于维护和复用。例如，将建立OpenSees模型相关的函数（如create_openseespy_model、create_beam_column_elements等）放在一个模块中，遗传算法相关函数（如initial_population、fitness_function、selection、crossover、mutation、genetic_algorithm等）放在另一个模块中，主函数调用这些模块中的函数来实现整个程序的功能。\n",
    "    - 减少重复代码：一些代码段在程序中多次出现，可以将其封装成函数。比如计算总体积的代码在objective_function和calculate_total_volume函数中都有类似的实现，可以将这部分代码提取出来作为一个单独的函数，需要时直接调用该函数即可。\n",
    "- 性能优化\n",
    "    - 减少模型重建次数：在objective_function中，每次计算个体的适应度值时都会先调用ops.wipe()清除模型，然后重新构建整个模型，这会导致大量重复的计算和资源消耗。可以考虑只在必要时（如改变模型的基本参数、截面尺寸库等）重建模型，对于仅改变截面选择的情况，通过修改已有模型的截面属性来实现，避免每次都从头构建模型。\n",
    "    - 优化循环结构：在一些循环中，如create_beam_column_elements函数中构建梁柱单元信息的循环，循环嵌套层数较多且循环次数较大，这会降低代码的执行效率。可以尝试通过优化循环逻辑、减少循环次数或使用更高效的循环结构（如列表推导式等）来提高性能。例如，可以先计算出所有节点的索引范围，然后在循环中直接根据索引范围来构建单元信息，避免多次重复计算索引。\n",
    "- 代码可读性优化\n",
    "    - 变量命名：部分变量命名不够直观，如bx、by、mm、N等，可以使用更具描述性的命名来提高代码的可读性。例如，将bx改为span_lengths_x、by改为span_lengths_y、mm改为millimeter、N改为newton等，使变量的含义更加明确。\n",
    "    - 注释完善：虽然代码中有一些注释，但部分函数和代码段的注释不够详细，无法清晰地说明其功能、输入输出参数、算法逻辑等。可以进一步完善注释，尤其是对于一些复杂的函数和关键的代码段，详细说明其作用和实现方式，方便他人理解和维护代码。\n",
    "    - 代码格式化：代码的格式不够规范，存在一些缩进不一致、空行使用不合理等问题，这会影响代码的可读性。可以使用代码格式化工具（如black、autopep8等）对代码进行格式化，统一代码的风格，使其更加整洁美观。\n",
    "- 功能优化\n",
    "    - 适应度函数优化：当前的适应度函数仅以总体积作为优化目标，没有考虑其他可能影响结构性能的因素，如位移、频率等。可以将位移、频率等作为约束条件或惩罚项加入到适应度函数中，使优化结果更加符合实际工程需求。例如，当位移超过允许值时，对适应度值进行惩罚，使其降低，从而引导优化过程向满足位移要求的方向发展。\n",
    "    - 遗传算法参数优化：遗传算法的参数（如种群大小、交叉率、变异率、迭代代数等）对优化结果和效率有很大影响。可以尝试通过实验或使用一些参数优化方法（如网格搜索、贝叶斯优化等）来确定更合适的参数值，提高遗传算法的性能和优化效果。"
   ]
  },
  {
   "cell_type": "markdown",
   "metadata": {},
   "source": [
    "### 使用层结构建立OpenSeesPy模型\n"
   ]
  },
  {
   "cell_type": "markdown",
   "metadata": {},
   "source": []
  },
  {
   "cell_type": "markdown",
   "metadata": {},
   "source": [
    "# demo\n"
   ]
  },
  {
   "cell_type": "code",
   "execution_count": null,
   "metadata": {},
   "outputs": [
    {
     "name": "stdout",
     "output_type": "stream",
     "text": [
      "建筑顶部高度为： 94.5 m\n",
      "顶部的风压为： 481.9863055759505 N\n"
     ]
    }
   ],
   "source": [
    "mm = 1\n",
    "m = 1000*mm\n",
    "\n",
    "z = 94.5*m\n",
    "print(\"建筑顶部高度为：\", z/m, \"m\")\n",
    "a = 245.7*(z/10000)**0.30\n",
    "print(\"顶部的风压为：\", a, \"N\")\n"
   ]
  }
 ],
 "metadata": {
  "kernelspec": {
   "display_name": "pytorch_cuda",
   "language": "python",
   "name": "python3"
  },
  "language_info": {
   "codemirror_mode": {
    "name": "ipython",
    "version": 3
   },
   "file_extension": ".py",
   "mimetype": "text/x-python",
   "name": "python",
   "nbconvert_exporter": "python",
   "pygments_lexer": "ipython3",
   "version": "3.11.8"
  }
 },
 "nbformat": 4,
 "nbformat_minor": 2
}
