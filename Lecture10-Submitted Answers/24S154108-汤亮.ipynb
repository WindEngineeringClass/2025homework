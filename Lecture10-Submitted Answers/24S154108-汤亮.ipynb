{
 "cells": [
  {
   "cell_type": "markdown",
   "id": "d9a3ec0f-1069-4ac5-a9af-43fbcf23433c",
   "metadata": {},
   "source": [
    "# Question\n",
    "The following figures show the Di Wang Tower in Shenzhen. The structure of Di Wang Tower is made up of steel and reinforced concrete (calculated as reinforced concrete), C terrain type, the design wind pressure $w_0 = 0.75 \\text{ kN/m}^2$, period $T_1=6.38\\text{ s}$, The first mode shape is listed in following table. To determine shape factor, the cross section could be considered as rectangle.\n",
    "\n",
    "<center>\n",
    "    <img src=\"./images/Diwang01.png\" alt=\"The Elvation of the DiWang Tower\" width=\"400\"/>\n",
    "    <img src=\"./images/Diwang02.png\" alt=\"The Plan View of the DiWang Tower\" width=\"400\"/>\n",
    "</center>\n",
    "\n",
    "<br>\n",
    "\n",
    "| $\\dfrac{h}{H}$ | 0     | 0.1   | 0.2   | 0.3   | 0.4    | 0.5   | 0.6   | 0.7    | 0.8   | 0.9   | 1.0   |\n",
    "| -------------- | ----- | ----- | ----- | ----- | ------ | ----- | ----- | ------ | ----- | ----- | ----- |\n",
    "| Mode shape     | 0.0000| 0.0137| 0.0558| 0.1277| 0.2424| 0.3503| 0.4629| 0.5903| 0.7309| 0.8700| 1.0000| \n",
    "| Mass / ton     | 2500  | 2500  | 2500  | 2500  | 2500  | 2500  | 2500  | 2500  | 2500  | 2500  | 1500  | \n",
    "\n",
    "Only consider the first mode, calculate **the extreme of top displacements** induced by the along-wind static and dynamic wind load in the given wind direction using the following methods:\n",
    "1. Method recommended by the Chinese code for wind-resistant design of buildings (GB 50009-2012).\n",
    "2. According to the quasi-steady assumption, convert the fluctuating wind velocity time histories in `windData` (**with a duration of 10 minutes and a sampling frequency of 10 Hz**) to wind load time histories $F_i(t)=[1/2\\rho \\bar{u_i}^2+\\rho \\bar{u_i} u'_i(t)] \\cdot \\mu_{s,i} \\cdot A_i$, and then using stocastic vibration methods in time domain (such as the newmark-beta algorithm) and in frequency domain (such as the response spectrum analysis). Peak factor $g = 2.5$ should be used for the extreme value calculation, and the programming using frequency domain method is optional."
   ]
  },
  {
   "cell_type": "markdown",
   "id": "14cec2bb",
   "metadata": {},
   "source": [
    "# Answer\n"
   ]
  },
  {
   "cell_type": "code",
   "id": "106f3b73-46bc-438f-87e3-6db570df2d2f",
   "metadata": {
    "ExecuteTime": {
     "end_time": "2025-04-16T06:40:14.778244Z",
     "start_time": "2025-04-16T06:40:14.774597Z"
    }
   },
   "source": [
    "import scipy.io as sio\n",
    "\n",
    "# load data\n",
    "simDataPath = './windData/windData.mat'\n",
    "simData = sio.loadmat(simDataPath, squeeze_me=True, struct_as_record=False)\n",
    "U = simData['U']\n",
    "Z = simData['Z']\n",
    "dt = simData['dt']\n",
    "t = simData['t']\n",
    "del simData\n",
    "print(\"\\nThe dimension of U is:\", U.shape)\n"
   ],
   "outputs": [
    {
     "name": "stdout",
     "output_type": "stream",
     "text": [
      "\n",
      "The dimension of U is: (11, 6000)\n"
     ]
    }
   ],
   "execution_count": 16
  },
  {
   "cell_type": "code",
   "id": "1b2968a8-f28f-4feb-83e7-0804ca173ee8",
   "metadata": {
    "ExecuteTime": {
     "end_time": "2025-04-16T06:40:14.796189Z",
     "start_time": "2025-04-16T06:40:14.791253Z"
    }
   },
   "source": [
    "#采用国标推荐方法\n",
    "import numpy as np\n",
    "\n",
    "# 参数设置\n",
    "w0 = 0.75  # kN/m²\n",
    "T1 = 6.38  # s\n",
    "mu_s = 1.3  # 体型系数\n",
    "H = 324.95  # 总高度 (m)\n",
    "alpha = 0.44  # C类地形\n",
    "xi = 2.0  # 脉动增大系数\n",
    "nu = 0.4  # 脉动影响系数\n",
    "g = 2.5  # 峰值因子\n",
    "\n",
    "# 振型和质量数据\n",
    "h_over_H = np.array([0, 0.1, 0.2, 0.3, 0.4, 0.5, 0.6, 0.7, 0.8, 0.9, 1.0])\n",
    "phi = np.array([0.0000, 0.0137, 0.0558, 0.1277, 0.2424, 0.3503, 0.4629, 0.5903, 0.7309, 0.8700, 1.0000])\n",
    "mass = np.array([2500, 2500, 2500, 2500, 2500, 2500, 2500, 2500, 2500, 2500, 1500]) * 1000  # 转换为 kN·s²/m\n",
    "\n",
    "# 计算各层高度（确保z不小于5米）\n",
    "z = h_over_H * H\n",
    "z = np.clip(z, a_min=5, a_max=None)  # 限制最小高度为5米\n",
    "\n",
    "# 风压高度系数\n",
    "mu_z = (z / 10) ** alpha\n",
    "\n",
    "# 风振系数β_z\n",
    "beta_z = 1 + (xi * nu * phi) / mu_z\n",
    "\n",
    "# 计算静风荷载\n",
    "B = 35.5  # 结构宽度 \n",
    "delta_h = H / 10  # 每层高度段\n",
    "A_i = B * delta_h  # 迎风面积 (m²)\n",
    "\n",
    "# 计算静风荷载\n",
    "F_i = beta_z * mu_s * mu_z * w0 * A_i  # kN\n",
    "\n",
    "# 广义参数\n",
    "P_star = np.sum(F_i * phi)\n",
    "M_star = np.sum(mass * phi**2)\n",
    "omega1 = 2 * np.pi / T1\n",
    "K_star = omega1**2 * M_star\n",
    "\n",
    "# 静力位移\n",
    "X_static = P_star / K_star  # 顶部静力位移 (m)\n",
    "\n",
    "print(f\"按中国规范计算的顶部静力位移极值: {X_static:.4f} m\")"
   ],
   "outputs": [
    {
     "name": "stdout",
     "output_type": "stream",
     "text": [
      "按中国规范计算的顶部静力位移极值: 0.0036 m\n"
     ]
    }
   ],
   "execution_count": 17
  },
  {
   "cell_type": "code",
   "id": "d58afca6-43b4-4a8c-9fef-68333c36fe5f",
   "metadata": {
    "ExecuteTime": {
     "end_time": "2025-04-16T06:40:14.824860Z",
     "start_time": "2025-04-16T06:40:14.808294Z"
    }
   },
   "source": [
    "#采用Quasi-steady assumption \n",
    "from scipy.integrate import odeint\n",
    "\n",
    "# 加载风速数据\n",
    "rho = 1.25  # 空气密度 (kg/m³)\n",
    "mu_s = 1.3  # 体型系数\n",
    "B = 35.5  # 结构宽度 (假设)\n",
    "H = Z[-1]  # 从windData.mat中读取Z[-1]为总高度\n",
    "delta_h = H / 10\n",
    "A_i = B * delta_h  # 每层迎风面积\n",
    "\n",
    "# 计算平均风速ū_i和脉动风荷载\n",
    "ū = (Z / 10)**0.22 * np.sqrt(2 * w0 * 1e3 / rho)  # 转换为m/s\n",
    "F_time = np.zeros_like(U)\n",
    "for i in range(11):\n",
    "    F_static = 0.5 * rho * ū[i]**2 * mu_s * A_i\n",
    "    F_fluctuating = rho * ū[i] * U[i] * mu_s * A_i\n",
    "    F_time[i] = F_static + F_fluctuating\n",
    "\n",
    "# 广义力时程\n",
    "P_t = np.sum(F_time * phi[:, None], axis=0)\n",
    "\n",
    "# Newmark-β参数\n",
    "beta = 0.25\n",
    "gamma = 0.5\n",
    "dt = 0.1  # 时间步长\n",
    "M_star = np.sum(mass * phi**2)\n",
    "K_star = (2 * np.pi / T1)**2 * M_star\n",
    "zeta = 0.05  # 阻尼比\n",
    "C_star = 2 * zeta * np.sqrt(K_star * M_star)\n",
    "\n",
    "# 初始化\n",
    "q = np.zeros(len(P_t))\n",
    "v = np.zeros(len(P_t))\n",
    "a = np.zeros(len(P_t))\n",
    "a[0] = (P_t[0] - C_star * v[0] - K_star * q[0]) / M_star\n",
    "\n",
    "# Newmark-β迭代\n",
    "for i in range(1, len(P_t)):\n",
    "    q_pred = q[i-1] + dt * v[i-1] + (0.5 - beta) * dt**2 * a[i-1]\n",
    "    v_pred = v[i-1] + (1 - gamma) * dt * a[i-1]\n",
    "    a[i] = (P_t[i] - K_star * q_pred - C_star * v_pred) / (M_star + gamma * dt * C_star + beta * dt**2 * K_star)\n",
    "    q[i] = q_pred + beta * dt**2 * a[i]\n",
    "    v[i] = v_pred + gamma * dt * a[i]\n",
    "\n",
    "# 极端位移\n",
    "X_extreme = np.max(np.abs(q)) * g\n",
    "print(f\"时域分析顶部极端位移: {X_extreme:.4f} m\")"
   ],
   "outputs": [
    {
     "name": "stdout",
     "output_type": "stream",
     "text": [
      "时域分析顶部极端位移: 33.4173 m\n"
     ]
    }
   ],
   "execution_count": 18
  }
 ],
 "metadata": {
  "kernelspec": {
   "display_name": "pythonEnv312",
   "language": "python",
   "name": "python3"
  },
  "language_info": {
   "codemirror_mode": {
    "name": "ipython",
    "version": 3
   },
   "file_extension": ".py",
   "mimetype": "text/x-python",
   "name": "python",
   "nbconvert_exporter": "python",
   "pygments_lexer": "ipython3",
   "version": "3.12.9"
  }
 },
 "nbformat": 4,
 "nbformat_minor": 5
}
