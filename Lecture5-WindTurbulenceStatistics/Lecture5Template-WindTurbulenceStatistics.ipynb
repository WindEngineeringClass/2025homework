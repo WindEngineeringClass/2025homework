{
 "cells": [
  {
   "cell_type": "markdown",
   "id": "7215c920-d654-401e-909a-4d3e6445a53e",
   "metadata": {},
   "source": [
    "# **Lecture5 homework: wind turbulence statistics**\n",
    "\n",
    "Name: San Zhang\n",
    "\n",
    "Stuent ID: 24SXXXXXX"
   ]
  },
  {
   "attachments": {},
   "cell_type": "markdown",
   "id": "a7f150e8-5ba3-42e4-ae74-2c7e6e403030",
   "metadata": {
    "jp-MarkdownHeadingCollapsed": true
   },
   "source": [
    "## **Question**\n",
    "\n",
    "There are two sets of spatial (vertical z and transverse y) wind velocity time history records, with a duration of 10 minutes and a sampling frequency of 100 Hz (i.e., a time interval of 0.01 s). The data are stored in the windData folder.\n",
    "\n",
    "### 1 Measurement point coordinates\n",
    "\n",
    "(1) Z-direction measurement point coordinates\n",
    "| Num. | 1 | 2 | 3 | 4 | 5 |\n",
    "| --- | --- | --- | --- | --- | --- |\n",
    "| x(m) | 0 | 0 | 0 | 0 | 0 |\n",
    "| y(m) | 0 | 0 | 0 | 0 | 0 |\n",
    "| z(m) | 10 | 30 | 50 | 70 | 90 |\n",
    "\n",
    "(2) Y-direction measurement point coordinates\n",
    "| Num. | 1 | 2 | 3 | 4 | 5 |\n",
    "| --- | --- | --- | --- | --- | --- |\n",
    "| x(m) | 0 | 0 | 0 | 0 | 0 |\n",
    "| y(m) | 0 | 20 | 40 | 60 | 80 |\n",
    "| z(m) | 50 | 50 | 50 | 50 | 50 |\n",
    "\n",
    "### 2 Target turbulence characteristics\n",
    "(1) Mean velocity profile\n",
    "\\begin{gather}\n",
    "U_{avg}(z) = U_r \\left(\\frac{z}{z_r}\\right)^\\alpha \\\\\n",
    "U_r=50\\, \\text{m/s},\\ z_r=160\\, \\text{m},\\ \\alpha=0.22\n",
    "\\end{gather}\n",
    "\n",
    "(2) Turbulence intensity profiles\n",
    "\\begin{gather}\n",
    "I_u(z)=I_{10}\\left ( \\frac{z}{10}  \\right )^{-\\alpha}, \\ I_v(z)=0.78I_u(z), \\ I_w(z)=0.55I_u(z) \\\\\n",
    "I_{10}=0.23,\\alpha=0.22\n",
    "\\end{gather}\n",
    "\n",
    "(3) Turbulence integral scale profiles\n",
    "\\begin{gather}\n",
    "L_u^x(z)=100\\left ( \\frac{z}{30}  \\right )^{0.5}, \\ L_v^x(z)=0.5L_u^x(z), \\ L_w^x(z)=0.5L_u^x(z) \\\\\n",
    "\\end{gather}\n",
    "\n",
    "(4) Von Kármán wind spectra\n",
    "\\begin{gather}\n",
    "S_u(f)=\\frac{4(I_u U_{avg})^2(L_u^x/U_{avg})}{\\left [ 1+70.8(fL_u^x/U_{avg})^2 \\right ]^{5/6}} \\\\\n",
    "S_v(f)=\\frac{4(I_v U_{avg})^2(L_v^x/U_{avg})(1+188.4(2fL_v^x/U_{avg})^2)}{\\left [ 1+70.8(2fL_v^x/U_{avg})^2 \\right ]^{11/6}}  \\\\\n",
    "S_w(f)=\\frac{4(I_w U_{avg})^2(L_w^x/U_{avg})(1+188.4(2fL_w^x/U_{avg})^2)}{\\left [ 1+70.8(2fL_w^x/U_{avg})^2 \\right ]^{11/6}} \n",
    "\\end{gather}\n",
    "\n",
    "(5) Spatial correlation coefficient in the y-direction proposed by Shiotani  \n",
    "\\begin{gather}\n",
    "\\rho_u^y(r)=e^{-\\left | r \\right | /L_u^y} \\\\\n",
    "\\rho_v^y(r)=e^{-\\left | r \\right | /L_v^y} \\\\\n",
    "\\rho_w^y(r)=e^{-\\left | r \\right | /L_w^y} \\\\\n",
    "L_u^y=60m,\\ L_v^y=50m,\\ L_w^y=40m\n",
    "\\end{gather}\n",
    "\n",
    "### 3 Assignment requirements\n",
    "Read the wind data in the `windData` folder according to the requirements below, calculate the turbulence characteristics, and plot them (the given target turbulence characteristics should be plotted together).\n",
    "\n",
    "#### **For the z-direction wind velocity time history, calculate:**\n",
    "\n",
    "(1) Mean velocity profile (calculate the U-component of velocity)\n",
    "\n",
    "(2) Turbulence intensity profiles (calculate the fluctuating velocity components u, v, and w)\n",
    "\n",
    "(3) Wind power spectral density (select one point and calculate the fluctuating velocity components u, v, and w)\n",
    "\n",
    "(4) Probability density curve (select one point, calculate the fluctuating velocity components u, v, and w, and plot the corresponding normal distribution curve)\n",
    "\n",
    "#### **For the y-direction wind velocity time history, calculate:**\n",
    "\n",
    "(1) Spatial correlation coefficient in the y-direction (using the first point as the reference point, calculate the fluctuating velocity components u, v, and w)\n"
   ]
  },
  {
   "cell_type": "markdown",
   "id": "8f972cfe-2cf2-4571-ba55-186df57ce0bf",
   "metadata": {},
   "source": [
    "## **Answer**"
   ]
  },
  {
   "cell_type": "markdown",
   "id": "852419e3-360d-4407-95e2-ebd9ae622c8d",
   "metadata": {},
   "source": [
    "### 1 Statistical results of the z-direction wind velocity time history"
   ]
  },
  {
   "cell_type": "code",
   "execution_count": 3,
   "id": "2c3d0fd3-258f-4abc-a218-5f03bdd16683",
   "metadata": {},
   "outputs": [],
   "source": [
    "import scipy.io as sio\n",
    "\n",
    "# 加载模拟数据\n",
    "simDataPath = './windData/zDirData.mat'\n",
    "simData = sio.loadmat(simDataPath, squeeze_me=True, struct_as_record=False)\n",
    "U = simData['U']\n",
    "V = simData['V']\n",
    "W = simData['W']\n",
    "X = simData['X']\n",
    "Y = simData['Y']\n",
    "Z = simData['Z']\n",
    "dt = simData['dt']\n",
    "del simData"
   ]
  },
  {
   "cell_type": "markdown",
   "id": "e1935127-a4da-4e1d-b53e-4a63c11ac392",
   "metadata": {},
   "source": [
    "#### 1.1 Mean velocity profile"
   ]
  },
  {
   "cell_type": "code",
   "execution_count": null,
   "id": "e2c53447-d05a-460d-ae58-d4aec78cd4ed",
   "metadata": {},
   "outputs": [],
   "source": [
    "\n"
   ]
  },
  {
   "cell_type": "markdown",
   "id": "f422f378-1f64-40e2-bd73-9274ddd7e2e5",
   "metadata": {},
   "source": [
    "#### 1.2 Turbulence intensity profile"
   ]
  },
  {
   "cell_type": "code",
   "execution_count": null,
   "id": "34bc64d2-598f-4409-b760-14454ec64fd5",
   "metadata": {},
   "outputs": [],
   "source": [
    "\n"
   ]
  },
  {
   "cell_type": "markdown",
   "id": "ab9c1989-b5f5-4c06-9b9a-94e6af69673f",
   "metadata": {},
   "source": [
    "#### 1.3 Wind power spectral density"
   ]
  },
  {
   "cell_type": "code",
   "execution_count": null,
   "id": "5a488635-6d38-44c0-9c85-17472aac6457",
   "metadata": {},
   "outputs": [],
   "source": [
    "\n"
   ]
  },
  {
   "cell_type": "markdown",
   "id": "9371408d-b2ad-4f6d-886a-7402caf5867d",
   "metadata": {},
   "source": [
    "#### 1.4 Probability density curve"
   ]
  },
  {
   "cell_type": "code",
   "execution_count": null,
   "id": "4dd60c70-485f-48ce-a225-0a24c3df7e5c",
   "metadata": {},
   "outputs": [],
   "source": [
    "\n"
   ]
  },
  {
   "cell_type": "markdown",
   "id": "773ccf81-d389-4ef9-8a6d-c3bd5c3f4adf",
   "metadata": {},
   "source": [
    "### 2 y向风速时程统计结果"
   ]
  },
  {
   "cell_type": "code",
   "execution_count": 2,
   "id": "a882488b-a844-4382-aea5-8acfc2b1a877",
   "metadata": {},
   "outputs": [],
   "source": [
    "# 加载模拟数据\n",
    "simDataPath = './windData/yDirData.mat'\n",
    "simData = sio.loadmat(simDataPath, squeeze_me=True, struct_as_record=False)\n",
    "U = simData['U']\n",
    "V = simData['V']\n",
    "W = simData['W']\n",
    "X = simData['X']\n",
    "Y = simData['Y']\n",
    "Z = simData['Z']\n",
    "dt = simData['dt']\n",
    "del simData"
   ]
  },
  {
   "cell_type": "markdown",
   "id": "be28414e-0967-4e4e-9a6b-cdd52ba56701",
   "metadata": {},
   "source": [
    "#### 2.1 Spatial correlation coefficient in y direction"
   ]
  },
  {
   "cell_type": "code",
   "execution_count": null,
   "id": "86526af9-0450-47c5-b1c0-78dd85d751c5",
   "metadata": {},
   "outputs": [],
   "source": [
    "\n"
   ]
  }
 ],
 "metadata": {
  "kernelspec": {
   "display_name": "Python 3 (ipykernel)",
   "language": "python",
   "name": "python3"
  },
  "language_info": {
   "codemirror_mode": {
    "name": "ipython",
    "version": 3
   },
   "file_extension": ".py",
   "mimetype": "text/x-python",
   "name": "python",
   "nbconvert_exporter": "python",
   "pygments_lexer": "ipython3",
   "version": "3.11.4"
  }
 },
 "nbformat": 4,
 "nbformat_minor": 5
}
